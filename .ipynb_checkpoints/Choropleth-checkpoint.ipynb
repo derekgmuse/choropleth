{
 "cells": [
  {
   "cell_type": "code",
   "execution_count": 1,
   "id": "5529a4b7-fef0-4c8c-a253-3b7033fe1294",
   "metadata": {},
   "outputs": [],
   "source": [
    "# Source: https://observable-jupyter.readthedocs.io/en/latest/Leaflet_US_Choropleth.html"
   ]
  },
  {
   "cell_type": "code",
   "execution_count": 2,
   "id": "f00655a5",
   "metadata": {},
   "outputs": [],
   "source": [
    "!pip install jovian --upgrade -q --use-pep517"
   ]
  },
  {
   "cell_type": "code",
   "execution_count": 3,
   "id": "c57aba5c",
   "metadata": {},
   "outputs": [],
   "source": [
    "import jovian"
   ]
  },
  {
   "cell_type": "code",
   "execution_count": null,
   "id": "7409876b",
   "metadata": {},
   "outputs": [
    {
     "data": {
      "application/javascript": [
       "window.require && require([\"base/js/namespace\"],function(Jupyter){Jupyter.notebook.save_checkpoint()})"
      ],
      "text/plain": [
       "<IPython.core.display.Javascript object>"
      ]
     },
     "metadata": {},
     "output_type": "display_data"
    }
   ],
   "source": [
    "jovian.commit()"
   ]
  },
  {
   "cell_type": "code",
   "execution_count": null,
   "id": "a60b42a2-bafb-446b-bb91-4a5fbc2d5d43",
   "metadata": {},
   "outputs": [],
   "source": [
    "!pip install observable_jupyter"
   ]
  },
  {
   "cell_type": "code",
   "execution_count": null,
   "id": "1030bb3b-2579-4e4c-a4ac-e5a44c51d76f",
   "metadata": {},
   "outputs": [],
   "source": [
    "!pip install pandas"
   ]
  },
  {
   "cell_type": "code",
   "execution_count": null,
   "id": "ea3dc783-f677-4f5b-904a-ebedd2000164",
   "metadata": {},
   "outputs": [],
   "source": [
    "from observable_jupyter import embed\n",
    "import pandas as pd\n",
    "import json\n",
    "import requests"
   ]
  },
  {
   "cell_type": "code",
   "execution_count": null,
   "id": "162b0d6b-e7ca-4e19-b8e4-275834ce20b2",
   "metadata": {},
   "outputs": [],
   "source": [
    "temp_df = pd.read_csv('https://raw.githubusercontent.com/derekgmuse/choropleth/main/Demonstration%20Files/StateTemp.csv')\n",
    "result = temp_df.to_json(orient=\"records\")\n",
    "parsed = json.loads(result)\n",
    "data = json.dumps(parsed, indent=4)\n",
    "Formatted_Data = json.loads(data)"
   ]
  },
  {
   "cell_type": "code",
   "execution_count": null,
   "id": "fb24eac4",
   "metadata": {},
   "outputs": [],
   "source": [
    "url = \"https://raw.githubusercontent.com/derekgmuse/choropleth/main/Demonstration%20Files/gz_2010_us_040_00_20m.json\"\n",
    "resp = requests.get(url)\n",
    "Boundary_Data = resp.json() "
   ]
  },
  {
   "cell_type": "code",
   "execution_count": null,
   "id": "46acf686",
   "metadata": {},
   "outputs": [],
   "source": [
    "temp_df.head()"
   ]
  },
  {
   "cell_type": "code",
   "execution_count": null,
   "id": "ab09457c",
   "metadata": {},
   "outputs": [],
   "source": [
    "Boundary_Data[\"features\"][0][\"properties\"]"
   ]
  },
  {
   "cell_type": "code",
   "execution_count": null,
   "id": "58e1940a",
   "metadata": {},
   "outputs": [],
   "source": [
    "Formatted_Data[0]"
   ]
  },
  {
   "cell_type": "code",
   "execution_count": null,
   "id": "8f26ed2a-6f42-49d8-a0e3-0062dd11a258",
   "metadata": {
    "tags": []
   },
   "outputs": [],
   "source": [
    "embed(\"@derekgmuse/maine-county-subdivisions-choropleth\",\n",
    "     cells = [\"map\", \"style\"],\n",
    "     inputs = { \n",
    "         \"map_data\" : Boundary_Data,\n",
    "         \"quantitative_data\" : Formatted_Data,\n",
    "         \"regional_name\" : \"State\",\n",
    "         \"regional_data\" : \"Avg °F\",\n",
    "         \"comonality\" : \"NAME\",\n",
    "         \"toolTip_title\" : [\"Average Temperature\", \"°F\"],\n",
    "         \"Levels\" : [25, 33, 41, 49, 57, 65, 73],\n",
    "         \"center\" : [-98, 40],\n",
    "         \"zoom\" : 3,\n",
    "         \"Colors\" : ['#045a8d','#7fcdbb', '#c7e9b4','#fec44f', '#fe9929', '#d95f0e', '#993404']\n",
    "\n",
    "     }\n",
    ")"
   ]
  },
  {
   "cell_type": "code",
   "execution_count": null,
   "id": "7fec4e1b",
   "metadata": {},
   "outputs": [],
   "source": [
    "#source: https://www.maine.gov/dafs/economist/census-information\n",
    "pop_df = pd.read_csv('/Users/dmuse/Downloads/MainePopulation.csv')\n",
    "pop_df.head()"
   ]
  },
  {
   "cell_type": "code",
   "execution_count": null,
   "id": "16c856ab",
   "metadata": {},
   "outputs": [],
   "source": [
    "result = pop_df.to_json(orient=\"records\")\n",
    "parsed = json.loads(result)\n",
    "data = json.dumps(parsed, indent=4)\n",
    "Formatted_Data = json.loads(data)"
   ]
  },
  {
   "cell_type": "code",
   "execution_count": null,
   "id": "adf12766",
   "metadata": {},
   "outputs": [],
   "source": [
    "embed(\"@derekgmuse/maine-county-subdivisions-choropleth\",\n",
    "     cells = [\"map\", \"style\"],\n",
    "     inputs = { \n",
    "         \"quantitative_data\" : Formatted_Data,\n",
    "         \"regional_name\" : \"Place\",\n",
    "         \"regional_data\" : \"2020 Total Population\",\n",
    "         \"toolTip_title\" : [\"Population\", \"people\"],\n",
    "         \"Levels\" : [100, 1000, 5000, 10000, 15000, 25000, 70000],\n",
    "         \"Colors\" : ['#045a8d','#7fcdbb', '#c7e9b4','#fec44f', '#fe9929', '#d95f0e', '#993404']\n",
    "     }\n",
    ")"
   ]
  },
  {
   "cell_type": "code",
   "execution_count": null,
   "id": "022d6313",
   "metadata": {},
   "outputs": [],
   "source": []
  }
 ],
 "metadata": {
  "kernelspec": {
   "display_name": "Python 3 (ipykernel)",
   "language": "python",
   "name": "python3"
  },
  "language_info": {
   "codemirror_mode": {
    "name": "ipython",
    "version": 3
   },
   "file_extension": ".py",
   "mimetype": "text/x-python",
   "name": "python",
   "nbconvert_exporter": "python",
   "pygments_lexer": "ipython3",
   "version": "3.11.0"
  }
 },
 "nbformat": 4,
 "nbformat_minor": 5
}
